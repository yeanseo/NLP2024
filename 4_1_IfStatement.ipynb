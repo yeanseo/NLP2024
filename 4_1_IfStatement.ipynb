{
  "nbformat": 4,
  "nbformat_minor": 0,
  "metadata": {
    "colab": {
      "provenance": [],
      "include_colab_link": true
    },
    "kernelspec": {
      "name": "python3",
      "display_name": "Python 3"
    },
    "language_info": {
      "name": "python"
    }
  },
  "cells": [
    {
      "cell_type": "markdown",
      "metadata": {
        "id": "view-in-github",
        "colab_type": "text"
      },
      "source": [
        "<a href=\"https://colab.research.google.com/github/yeanseo/NLP2024/blob/main/4_1_IfStatement.ipynb\" target=\"_parent\"><img src=\"https://colab.research.google.com/assets/colab-badge.svg\" alt=\"Open In Colab\"/></a>"
      ]
    },
    {
      "cell_type": "markdown",
      "source": [
        "### 🐾  Some useful tips for statements (e.g., if, for, while, etc.), functions or class\n",
        "\n",
        "1️⃣ The code line including a statement or a definition should end with a colon (:).\n",
        "\n",
        "2️⃣ Following executable codes should be indicated by indentation. When you hit the ENTER key for a second code line, indentation is automatically generated. However, when indentation disappears for some reason, you can do this with a tab or a spacebar.\n",
        "\n",
        "3️⃣ All executable code lines should have regular intervals."
      ],
      "metadata": {
        "id": "h2WMM5L89Ra7"
      }
    },
    {
      "cell_type": "code",
      "source": [
        "x = 0\n",
        "y =0\n",
        "\n",
        "if x>y:\n",
        "    print ('x is greater than y')\n",
        "\n",
        "else :\n",
        "  print ('x is smaller than ar equal to y')"
      ],
      "metadata": {
        "colab": {
          "base_uri": "https://localhost:8080/"
        },
        "id": "Zyqw8d_P-YFk",
        "outputId": "48bdae90-e680-4082-e325-b01e0565766a"
      },
      "execution_count": null,
      "outputs": [
        {
          "output_type": "stream",
          "name": "stdout",
          "text": [
            "x is smaller than ar equal to y\n"
          ]
        }
      ]
    },
    {
      "cell_type": "code",
      "source": [
        "x=100\n",
        "y=95\n",
        "\n",
        "if x>y:\n",
        "  print('x is greater than y.')\n",
        "\n",
        "\n",
        "else:\n",
        "  print('x is smaller than or equal to y.')"
      ],
      "metadata": {
        "id": "es9O3MH9wKPz"
      },
      "execution_count": null,
      "outputs": []
    },
    {
      "cell_type": "code",
      "source": [],
      "metadata": {
        "id": "vfoCd7pb_pfv"
      },
      "execution_count": null,
      "outputs": []
    },
    {
      "cell_type": "code",
      "source": [
        "x=0\n",
        "y=0\n",
        "\n",
        "if x > y:\n",
        "  print('x is greater than y')\n",
        "\n",
        "else:\n",
        "  print('x is smaller than or equal to y')"
      ],
      "metadata": {
        "id": "0EEhWrh3nNih"
      },
      "execution_count": null,
      "outputs": []
    },
    {
      "cell_type": "code",
      "source": [
        "x=345\n",
        "y=678\n",
        "\n",
        "if x>y:\n",
        "  print('x is greater than y.')\n",
        "\n",
        "\n",
        "else:\n",
        "  print('x is smaller than or equal to y.')"
      ],
      "metadata": {
        "id": "khsWyYCvspkL"
      },
      "execution_count": null,
      "outputs": []
    },
    {
      "cell_type": "code",
      "source": [
        "listdata = ['a','b','c']\n",
        "if 'a' in listdata:\n",
        "  print('a가 listdata안에 있습니다.')\n",
        "  print(listdata)"
      ],
      "metadata": {
        "id": "FdFnmIFO_rHd",
        "outputId": "4ae16233-3aa4-4643-ac1a-1374f44759d8",
        "colab": {
          "base_uri": "https://localhost:8080/"
        }
      },
      "execution_count": null,
      "outputs": [
        {
          "output_type": "stream",
          "name": "stdout",
          "text": [
            "a가 listdata안에 있습니다.\n",
            "['a', 'b', 'c']\n"
          ]
        }
      ]
    },
    {
      "cell_type": "code",
      "source": [
        "listdata = ['a','b','c']\n",
        "if 'z'in listdata :\n",
        "  print ('a,가 listdata 안에 있습니다.')\n",
        "#else :\n",
        "  #print('해당문자는 listdata안에 없습니다')"
      ],
      "metadata": {
        "id": "ZY_lcQN8hZpm"
      },
      "execution_count": null,
      "outputs": []
    },
    {
      "cell_type": "code",
      "source": [
        "if x>y\n",
        "if 'a'in dict:"
      ],
      "metadata": {
        "id": "9xM1MmWykSUT",
        "outputId": "dcc892c5-02c1-45c7-ad50-a71475b9fa46",
        "colab": {
          "base_uri": "https://localhost:8080/",
          "height": 112
        }
      },
      "execution_count": 5,
      "outputs": [
        {
          "output_type": "error",
          "ename": "SyntaxError",
          "evalue": "expected ':' (<ipython-input-5-dc19a7cb69bc>, line 1)",
          "traceback": [
            "\u001b[0;36m  File \u001b[0;32m\"<ipython-input-5-dc19a7cb69bc>\"\u001b[0;36m, line \u001b[0;32m1\u001b[0m\n\u001b[0;31m    if x>y\u001b[0m\n\u001b[0m          ^\u001b[0m\n\u001b[0;31mSyntaxError\u001b[0m\u001b[0;31m:\u001b[0m expected ':'\n"
          ]
        }
      ]
    },
    {
      "cell_type": "code",
      "source": [
        "listdata = ['a', 'b', 'c']\n",
        "if 'a' in listdata:\n",
        "  print ('a가 listdata 안에 있습니다.')\n",
        "  print(listdata)\n"
      ],
      "metadata": {
        "id": "iS8myQoGAY1U"
      },
      "execution_count": null,
      "outputs": []
    },
    {
      "cell_type": "markdown",
      "source": [
        "## 🔍 <font color='purple'> Relating issues of if statements are evailable in chapters 09 ~ 10 of 파이썬 200제 ."
      ],
      "metadata": {
        "id": "4kbHc0C8Cn40"
      }
    }
  ]
}