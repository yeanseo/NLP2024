{
  "nbformat": 4,
  "nbformat_minor": 0,
  "metadata": {
    "colab": {
      "provenance": [],
      "include_colab_link": true
    },
    "kernelspec": {
      "name": "python3",
      "display_name": "Python 3"
    },
    "language_info": {
      "name": "python"
    }
  },
  "cells": [
    {
      "cell_type": "markdown",
      "metadata": {
        "id": "view-in-github",
        "colab_type": "text"
      },
      "source": [
        "<a href=\"https://colab.research.google.com/github/yeanseo/NLP2024/blob/main/mymajor1.ipynb\" target=\"_parent\"><img src=\"https://colab.research.google.com/assets/colab-badge.svg\" alt=\"Open In Colab\"/></a>"
      ]
    },
    {
      "cell_type": "markdown",
      "source": [
        "# **❗❗Let me introduce my major❗❗**\n",
        "* ##  My major is <font color = 'blue'>literature informatics🌐\n",
        "\n",
        "The ultimate goal of our department is to produce a brilliant information manager\n",
        "\n",
        ">  ## ** the general contents of our major **\n",
        "\n",
        "At first, you learn a basic understanding of information materials.\n",
        "As the school year progresses, you will learn about professional exploration and information delivery related to information and records\n",
        "\n",
        "> ## ** the history of our department **\n",
        "\n",
        "The history of record management is very long because it has been with the development of civilization.\n",
        "Therefore, there are various classification methods, methods, etc., and related content has also developed over a long period of time.\n",
        "In the past, it was called the Department of Library Studies because it was limited to libraries, but the name was changed to the Literature Information Department because it was not limited to libraries and handled various information.\n",
        "Our school also changed in 1900.\n",
        "\n",
        "\n",
        "> ## ** employment direction **\n",
        "\n",
        "When I graduate from the department, I usually apply for <font color = 'green'> a librarian</font> because I have a second-level librarian certificate.\n",
        "Librarians also go in various directions,<font color = 'green'> such as national libraries, private libraries, school libraries, and National Assembly libraries.</font>\n",
        "\n",
        "Other than that, it takes <font color = 'green'> a career path in the publishing industry or information management-related fields.\n",
        "\n",
        "#**I will attach the link to the school's website**([HERE](https://www.hannam.ac.kr/kor/educate/educate_0101_04.html))\n",
        "\n",
        "\n",
        "Thank you for reviewing it.\n",
        "Please show a lot of interest😊🙏\n",
        "\n"
      ],
      "metadata": {
        "id": "kBU1l-s52olP"
      }
    }
  ]
}