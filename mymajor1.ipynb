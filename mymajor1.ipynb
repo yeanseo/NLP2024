{
  "nbformat": 4,
  "nbformat_minor": 0,
  "metadata": {
    "colab": {
      "provenance": [],
      "include_colab_link": true
    },
    "kernelspec": {
      "name": "python3",
      "display_name": "Python 3"
    },
    "language_info": {
      "name": "python"
    }
  },
  "cells": [
    {
      "cell_type": "markdown",
      "metadata": {
        "id": "view-in-github",
        "colab_type": "text"
      },
      "source": [
        "<a href=\"https://colab.research.google.com/github/yeanseo/NLP2024/blob/main/mymajor1.ipynb\" target=\"_parent\"><img src=\"https://colab.research.google.com/assets/colab-badge.svg\" alt=\"Open In Colab\"/></a>"
      ]
    },
    {
      "cell_type": "markdown",
      "source": [
        "# **Let me introduce my major**\n",
        "My major is literature informatics\n",
        "The ultimate goal of our department is to produce a brilliant information manager\n",
        "\n",
        "> the general contents of our major\n",
        "\n",
        "When I was a freshman, I learned a basic understanding of information materials\n",
        "As the grade goes up, you learn about professional exploration and information delivery related to information and records\n",
        "\n",
        "> the history of our department\n",
        "The history of record management is very long because it has been with the development of civilization.\n",
        "Therefore, there are various classification methods, methods, etc., and related content has also developed over a long period of time.\n",
        "In the past, it was called the Department of Library Studies because it was limited to libraries, but the name was changed to the Literature Information Department because it was not limited to libraries and handled various information.\n",
        "Our school also changed in 1900.\n",
        "\n",
        "\n",
        "> employment direction\n",
        "When I graduate from the department, I usually apply for a librarian because I have a second-level librarian certificate.\n",
        "Librarians also go in various directions, such as national libraries, private libraries, school libraries, and National Assembly libraries.\n",
        "Other than that, it takes a career path in the publishing industry or information management-related fields.\n",
        "\n"
      ],
      "metadata": {
        "id": "kBU1l-s52olP"
      }
    }
  ]
}